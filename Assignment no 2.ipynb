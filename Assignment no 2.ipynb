{
 "cells": [
  {
   "cell_type": "markdown",
   "id": "9e62cfd2",
   "metadata": {},
   "source": [
    "# * *  *  *  *  *  *  *  *  *  *  *  *  * *  *  *Assignment no 2* * *  *  *  *  *  *  *  *  *  *  *  *  *  *  *  *  * \n",
    "### *Name - Kiran Shete*\n",
    "### *Roll no - 23577*\n",
    "\n"
   ]
  },
  {
   "cell_type": "markdown",
   "id": "bb7b7a33",
   "metadata": {},
   "source": [
    "## *Importing all Libaries*"
   ]
  },
  {
   "cell_type": "code",
   "execution_count": 1,
   "id": "0334f937",
   "metadata": {},
   "outputs": [],
   "source": [
    "import pandas as pd\n",
    "import numpy as np\n",
    "import matplotlib.pyplot as mtp \n",
    "import sklearn"
   ]
  },
  {
   "cell_type": "markdown",
   "id": "c003cf9e",
   "metadata": {},
   "source": [
    "## *Importing all Models from sklearn*"
   ]
  },
  {
   "cell_type": "code",
   "execution_count": 7,
   "id": "8572ab0e",
   "metadata": {},
   "outputs": [],
   "source": [
    "from sklearn.naive_bayes import GaussianNB\n",
    "from sklearn.preprocessing import LabelEncoder"
   ]
  },
  {
   "cell_type": "markdown",
   "id": "f8ecc680",
   "metadata": {},
   "source": [
    "## *Importing model for Splitting the data and checking the accuracy*"
   ]
  },
  {
   "cell_type": "code",
   "execution_count": 3,
   "id": "19077d73",
   "metadata": {},
   "outputs": [],
   "source": [
    "from sklearn.model_selection import train_test_split\n",
    "from sklearn.metrics import classification_report\n",
    "from sklearn.metrics import accuracy_score,confusion_matrix"
   ]
  },
  {
   "cell_type": "markdown",
   "id": "1ce0cda7",
   "metadata": {},
   "source": [
    "## *Bay's Classifier*"
   ]
  },
  {
   "cell_type": "code",
   "execution_count": 4,
   "id": "66be9f22",
   "metadata": {},
   "outputs": [],
   "source": [
    "class classifier():\n",
    "    \n",
    "    # Read the Data,\n",
    "    # Describe the dependent, Independent variables\n",
    "    # Split the data in Train and Test\n",
    "    \n",
    "    def __init__ (self):\n",
    "        self.data = pd.read_csv(\"healthcare-dataset-stroke-data.csv\")\n",
    "        self.data = self.data.drop(self.data[self.data['gender']=='Other'].index)\n",
    "        self.bmi_mean = self.data['bmi'].mean\n",
    "        self.data['bmi'] = self.data['bmi'].fillna(self.bmi_mean)\n",
    "        self.data.drop('id',axis = 1,inplace = True)\n",
    "        obj_cols = ['gender', 'ever_married', 'Residence_type']\n",
    "        self.lb = LabelEncoder()\n",
    "        \n",
    "        for i in obj_cols:\n",
    "            self.data[i] = self.lb.fit_transform(self.data[i])\n",
    "        self.data=pd.get_dummies(self.data)\n",
    "        \n",
    "        self.y = self.data['stroke']\n",
    "        self.X = self.data.drop('stroke', axis = 1)\n",
    "        self.X_train,self.X_test,self.y_train,self.y_test = train_test_split(self.X,self.y, test_size=0.20, random_state= 42)\n",
    "        \n",
    "        \n",
    "    # Navie Bayes model\n",
    "      \n",
    "    def Navie_bayes(self):\n",
    "        gnb = GaussianNB()\n",
    "        gnb.fit(self.X_train,self.y_train)\n",
    "        self.y_pred = gnb.predict(self.X_test)\n",
    "        mae = accuracy_score(self.y_test, self.y_pred)*100\n",
    "        print(\"Gaussian Naive Bayes model accuracy(in %):\",mae) \n",
    "            \n",
    "    \n"
   ]
  },
  {
   "cell_type": "markdown",
   "id": "da372247",
   "metadata": {},
   "source": [
    "## *Main Function*"
   ]
  },
  {
   "cell_type": "code",
   "execution_count": 8,
   "id": "28b7a9f7",
   "metadata": {},
   "outputs": [],
   "source": [
    "def main():\n",
    "    obj = classifier()\n",
    "    obj.Navie_bayes()\n",
    "    \n",
    "    "
   ]
  },
  {
   "cell_type": "code",
   "execution_count": 9,
   "id": "94ccd4b3",
   "metadata": {},
   "outputs": [
    {
     "name": "stdout",
     "output_type": "stream",
     "text": [
      "Gaussian Naive Bayes model accuracy(in %): 55.47945205479452\n"
     ]
    }
   ],
   "source": [
    "main()"
   ]
  },
  {
   "cell_type": "code",
   "execution_count": null,
   "id": "ba648195",
   "metadata": {},
   "outputs": [],
   "source": []
  }
 ],
 "metadata": {
  "kernelspec": {
   "display_name": "Python 3 (ipykernel)",
   "language": "python",
   "name": "python3"
  },
  "language_info": {
   "codemirror_mode": {
    "name": "ipython",
    "version": 3
   },
   "file_extension": ".py",
   "mimetype": "text/x-python",
   "name": "python",
   "nbconvert_exporter": "python",
   "pygments_lexer": "ipython3",
   "version": "3.9.13"
  }
 },
 "nbformat": 4,
 "nbformat_minor": 5
}
