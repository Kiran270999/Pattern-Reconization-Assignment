{
 "cells": [
  {
   "cell_type": "markdown",
   "id": "537d3fd4",
   "metadata": {},
   "source": [
    "# * *  *  *  *  *  *  *  *  *  *  *  *  * *  *  *Assignment no 3* * *  *  *  *  *  *  *  *  *  *  *  *  *  *  *  *  * \n",
    "### *Name - Kiran Shete*\n",
    "### *Roll no - 23577*"
   ]
  },
  {
   "cell_type": "markdown",
   "id": "0fdc7bc0",
   "metadata": {},
   "source": [
    "## *Importing all Libaries*"
   ]
  },
  {
   "cell_type": "code",
   "execution_count": 1,
   "id": "9500f64d",
   "metadata": {},
   "outputs": [],
   "source": [
    "import pandas as pd\n",
    "import numpy as np\n",
    "import matplotlib.pyplot as mtp \n"
   ]
  },
  {
   "cell_type": "markdown",
   "id": "f761f042",
   "metadata": {},
   "source": [
    "## *Importing all Models from sklearn*"
   ]
  },
  {
   "cell_type": "code",
   "execution_count": 2,
   "id": "5e96b400",
   "metadata": {},
   "outputs": [],
   "source": [
    "from sklearn.naive_bayes import GaussianNB\n",
    "from sklearn.preprocessing import LabelEncoder"
   ]
  },
  {
   "cell_type": "markdown",
   "id": "738f317b",
   "metadata": {},
   "source": [
    "## *Importing model for Splitting the data and checking the accuracy*"
   ]
  },
  {
   "cell_type": "code",
   "execution_count": 3,
   "id": "1d0329b9",
   "metadata": {},
   "outputs": [],
   "source": [
    "from sklearn.model_selection import train_test_split\n",
    "from sklearn import metrics\n",
    "from sklearn.metrics import accuracy_score, confusion_matrix"
   ]
  },
  {
   "cell_type": "markdown",
   "id": "5cefd2ad",
   "metadata": {},
   "source": [
    "## *Bay's Classifier*"
   ]
  },
  {
   "cell_type": "code",
   "execution_count": 4,
   "id": "dcfdbd0d",
   "metadata": {},
   "outputs": [],
   "source": [
    "class classifiers:\n",
    "    def __init__(self):\n",
    "        self.data = pd.read_csv('Train.csv')\n",
    "        self.y = self.data['price_range']\n",
    "        self.X = self.data.drop('price_range', axis = 1)\n",
    "#     def spliting_train_test(self):\n",
    "        self.X_train, self.X_test, self.y_train, self.y_test = train_test_split(self.X, self.y, test_size=0.20, random_state=27)\n",
    "    \n",
    "    def naive_bayes(self):\n",
    "        gnb = GaussianNB()\n",
    "        gnb.fit(self.X_train, self.y_train)\n",
    "        self.y_pred = gnb.predict(self.X_test)\n",
    "        print(\"Gaussian Naive Bayes model accuracy(in %):\", metrics.accuracy_score(self.y_test, self.y_pred)*100)\n",
    "    "
   ]
  },
  {
   "cell_type": "markdown",
   "id": "188fcfed",
   "metadata": {},
   "source": [
    "## *Main Function*"
   ]
  },
  {
   "cell_type": "code",
   "execution_count": 5,
   "id": "13a04269",
   "metadata": {},
   "outputs": [],
   "source": [
    "def main():\n",
    "    obj = classifiers()\n",
    "    obj.naive_bayes()"
   ]
  },
  {
   "cell_type": "code",
   "execution_count": 6,
   "id": "17b362a5",
   "metadata": {},
   "outputs": [
    {
     "name": "stdout",
     "output_type": "stream",
     "text": [
      "Gaussian Naive Bayes model accuracy(in %): 79.0\n"
     ]
    }
   ],
   "source": [
    "main()"
   ]
  },
  {
   "cell_type": "code",
   "execution_count": null,
   "id": "557b4522",
   "metadata": {},
   "outputs": [],
   "source": []
  }
 ],
 "metadata": {
  "kernelspec": {
   "display_name": "Python 3 (ipykernel)",
   "language": "python",
   "name": "python3"
  },
  "language_info": {
   "codemirror_mode": {
    "name": "ipython",
    "version": 3
   },
   "file_extension": ".py",
   "mimetype": "text/x-python",
   "name": "python",
   "nbconvert_exporter": "python",
   "pygments_lexer": "ipython3",
   "version": "3.9.13"
  }
 },
 "nbformat": 4,
 "nbformat_minor": 5
}
