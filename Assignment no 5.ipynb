{
 "cells": [
  {
   "cell_type": "markdown",
   "id": "cabe9053",
   "metadata": {},
   "source": [
    "# * *  *  *  *  *  *  *  *  *  *  *  *  * *  *  *Assignment no 5* * *  *  *  *  *  *  *  *  *  *  *  *  *  *  *  *  * \n",
    "### *Name - Kiran Shete*\n",
    "### *Roll no - 23577*\n",
    "\n"
   ]
  },
  {
   "cell_type": "markdown",
   "id": "174b66fc",
   "metadata": {},
   "source": [
    "## *Importing all Libaries*"
   ]
  },
  {
   "cell_type": "code",
   "execution_count": 1,
   "id": "4f268f1e",
   "metadata": {},
   "outputs": [],
   "source": [
    "import pandas as pd\n",
    "import numpy as np\n",
    "import matplotlib.pyplot as mtp \n",
    "import sklearn"
   ]
  },
  {
   "cell_type": "markdown",
   "id": "75c23675",
   "metadata": {},
   "source": [
    "## *Importing all Models from sklearn*"
   ]
  },
  {
   "cell_type": "code",
   "execution_count": 2,
   "id": "fedbe5be",
   "metadata": {},
   "outputs": [],
   "source": [
    "from sklearn.svm import SVC\n",
    "from sklearn.preprocessing import LabelEncoder"
   ]
  },
  {
   "cell_type": "markdown",
   "id": "087443e4",
   "metadata": {},
   "source": [
    "## *Importing model for Splitting the data and checking the accuracy*"
   ]
  },
  {
   "cell_type": "code",
   "execution_count": 3,
   "id": "d0a7001e",
   "metadata": {},
   "outputs": [],
   "source": [
    "from sklearn.model_selection import train_test_split\n",
    "from sklearn.metrics import classification_report\n",
    "from sklearn.metrics import accuracy_score,confusion_matrix"
   ]
  },
  {
   "cell_type": "markdown",
   "id": "59765d4b",
   "metadata": {},
   "source": [
    "## *Bay's Classifier*"
   ]
  },
  {
   "cell_type": "code",
   "execution_count": 4,
   "id": "740f5902",
   "metadata": {},
   "outputs": [],
   "source": [
    "class classifier():\n",
    "    \n",
    "    # Read the Data,\n",
    "    # Describe the dependent, Independent variables\n",
    "    # Split the data in Train and Test\n",
    "    \n",
    "    def __init__ (self):\n",
    "        self.data = pd.read_csv(\"healthcare-dataset-stroke-data.csv\")\n",
    "        self.data = self.data.drop(self.data[self.data['gender']=='Other'].index)\n",
    "        self.bmi_mean = self.data['bmi'].mean\n",
    "        self.data['bmi'] = self.data['bmi'].fillna(self.bmi_mean)\n",
    "        self.data.drop('id',axis = 1,inplace = True)\n",
    "        obj_cols = ['gender', 'ever_married', 'Residence_type']\n",
    "        self.lb = LabelEncoder()\n",
    "        \n",
    "        for i in obj_cols:\n",
    "            self.data[i] = self.lb.fit_transform(self.data[i])\n",
    "        self.data=pd.get_dummies(self.data)\n",
    "        \n",
    "        self.y = self.data['stroke']\n",
    "        self.X = self.data.drop('stroke', axis = 1)\n",
    "        self.X_train,self.X_test,self.y_train,self.y_test = train_test_split(self.X,self.y, test_size=0.20, random_state= 42)\n",
    "        \n",
    "        \n",
    "  # Support Vector Machine(SVM)\n",
    "    \n",
    "    def svm(self):\n",
    "        svc_model = SVC(C = .1, kernel = 'linear', gamma = 1)\n",
    "        svc_model.fit(self.X_train,self.y_train)\n",
    "        self.y_pred = svc_model.predict(self.X_test)\n",
    "        acc = svc_model.score(self.X_test, self.y_test)*100\n",
    "        print(\" Support Vector Machine Accuracy: \",acc)\n",
    "    \n"
   ]
  },
  {
   "cell_type": "markdown",
   "id": "dde78d6d",
   "metadata": {},
   "source": [
    "## *Main Function*"
   ]
  },
  {
   "cell_type": "code",
   "execution_count": 5,
   "id": "b72369d1",
   "metadata": {},
   "outputs": [],
   "source": [
    "def main():\n",
    "    obj = classifier()\n",
    "    obj.svm()\n",
    "    \n",
    "    "
   ]
  },
  {
   "cell_type": "code",
   "execution_count": 6,
   "id": "43197e95",
   "metadata": {},
   "outputs": [
    {
     "name": "stdout",
     "output_type": "stream",
     "text": [
      " Support Vector Machine Accuracy:  93.9334637964775\n"
     ]
    }
   ],
   "source": [
    "main()"
   ]
  },
  {
   "cell_type": "code",
   "execution_count": null,
   "id": "e3077300",
   "metadata": {},
   "outputs": [],
   "source": []
  }
 ],
 "metadata": {
  "kernelspec": {
   "display_name": "Python 3 (ipykernel)",
   "language": "python",
   "name": "python3"
  },
  "language_info": {
   "codemirror_mode": {
    "name": "ipython",
    "version": 3
   },
   "file_extension": ".py",
   "mimetype": "text/x-python",
   "name": "python",
   "nbconvert_exporter": "python",
   "pygments_lexer": "ipython3",
   "version": "3.9.13"
  }
 },
 "nbformat": 4,
 "nbformat_minor": 5
}
